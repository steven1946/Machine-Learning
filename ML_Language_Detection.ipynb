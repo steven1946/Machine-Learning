{
  "nbformat": 4,
  "nbformat_minor": 0,
  "metadata": {
    "colab": {
      "provenance": [],
      "collapsed_sections": []
    },
    "kernelspec": {
      "name": "python3",
      "display_name": "Python 3"
    },
    "language_info": {
      "name": "python"
    }
  },
  "cells": [
    {
      "cell_type": "markdown",
      "source": [
        "## importing libraries and data"
      ],
      "metadata": {
        "id": "csqXw1X75NaX"
      }
    },
    {
      "cell_type": "code",
      "execution_count": null,
      "metadata": {
        "id": "xJsaZCecCEpx"
      },
      "outputs": [],
      "source": [
        "import pandas as pd\n",
        "import numpy as np\n",
        "import re\n",
        "import seaborn as sns\n",
        "import matplotlib.pyplot as plt\n",
        "import warnings\n",
        "warnings.simplefilter(\"ignore\")"
      ]
    },
    {
      "cell_type": "code",
      "source": [
        "data = pd.read_csv(\"https://raw.githubusercontent.com/man-juu/datasetML/main/language_detection_dataset.csv\")\n",
        "data.head(21)"
      ],
      "metadata": {
        "colab": {
          "base_uri": "https://localhost:8080/",
          "height": 708
        },
        "id": "THsOYKyICKOW",
        "outputId": "d9739575-a5c9-44a6-e75c-19eafe0dd4c5"
      },
      "execution_count": null,
      "outputs": [
        {
          "output_type": "execute_result",
          "data": {
            "text/plain": [
              "                                                 Text    Language\n",
              "0   oyama station was opened on  april  the statio...     English\n",
              "1   elle est la fille de gérios tuéni et katbé sur...      French\n",
              "2   en  participó en el video \"love machine\" donde...     Spanish\n",
              "3   o rondonópolis e o goiás são os únicos times d...  Portuguese\n",
              "4   immagino che non vorrebbe più pane d'oro adess...     Italian\n",
              "5    мая  года был назначен тренером вратарей сбор...     Russian\n",
              "6   cerro wichu kkollu är ett berg i bolivia det l...     Swedish\n",
              "7   ടെറി നിങ്ങൾ യഥാർത്ഥത്തിൽ ആ മാലാഖയെപ്പോലെയാണ് ക...   Malayalam\n",
              "8   francisco de miranda is een gemeente in de ven...       Dutch\n",
              "9   في  أبريل م قدم الزعيم مصطفى النحاس مذكرة للسف...      Arabic\n",
              "10  peugeot  aslında peugeot efsane kuşağının  ürü...     Turkish\n",
              "11                              Ihr zwei seid so nett      German\n",
              "12  டெர்ரி நீங்கள் உண்மையில் அந்த தேவதையைப் போலவே ...       Tamil\n",
              "13  terry du ser faktisk lidt ud som den engel, me...      Danish\n",
              "14  ಟೆರ್ರಿ ನೀವು ನಿಜವಾಗಿಯೂ ಆ ದೇವದೂತನಂತೆ ಸ್ವಲ್ಪ ಕಾಣು...     Kannada\n",
              "15  Terry, στην πραγματικότητα μοιάζεις λίγο με αυ...       Greek\n",
              "16  यी की अपनी चित्रलिपि पर आधारित एक लिपि है जिसम...       Hindi\n",
              "17  在演说中，他呼吁全人类团结起来，共同反对专制、贫困、疾病和战争，他在演说中提到的：“不要问你...     Chinese\n",
              "18  artemisina plumosa adalah spesies spons yang t...  Indonesian\n",
              "19  通称「モモ」。年組の女子生徒。お下げ髪にぽっちゃりした感じの顔つきが特徴（スズとは「ポッチャ...    Japanese\n",
              "20  보건복지부 내부에서도 일단 환영 입장이다 행정부 내에서 보건복지부의 위상을 높일 수...      Korean"
            ],
            "text/html": [
              "\n",
              "  <div id=\"df-1f8a4e6e-a8e2-42bf-8517-e0461c30d125\">\n",
              "    <div class=\"colab-df-container\">\n",
              "      <div>\n",
              "<style scoped>\n",
              "    .dataframe tbody tr th:only-of-type {\n",
              "        vertical-align: middle;\n",
              "    }\n",
              "\n",
              "    .dataframe tbody tr th {\n",
              "        vertical-align: top;\n",
              "    }\n",
              "\n",
              "    .dataframe thead th {\n",
              "        text-align: right;\n",
              "    }\n",
              "</style>\n",
              "<table border=\"1\" class=\"dataframe\">\n",
              "  <thead>\n",
              "    <tr style=\"text-align: right;\">\n",
              "      <th></th>\n",
              "      <th>Text</th>\n",
              "      <th>Language</th>\n",
              "    </tr>\n",
              "  </thead>\n",
              "  <tbody>\n",
              "    <tr>\n",
              "      <th>0</th>\n",
              "      <td>oyama station was opened on  april  the statio...</td>\n",
              "      <td>English</td>\n",
              "    </tr>\n",
              "    <tr>\n",
              "      <th>1</th>\n",
              "      <td>elle est la fille de gérios tuéni et katbé sur...</td>\n",
              "      <td>French</td>\n",
              "    </tr>\n",
              "    <tr>\n",
              "      <th>2</th>\n",
              "      <td>en  participó en el video \"love machine\" donde...</td>\n",
              "      <td>Spanish</td>\n",
              "    </tr>\n",
              "    <tr>\n",
              "      <th>3</th>\n",
              "      <td>o rondonópolis e o goiás são os únicos times d...</td>\n",
              "      <td>Portuguese</td>\n",
              "    </tr>\n",
              "    <tr>\n",
              "      <th>4</th>\n",
              "      <td>immagino che non vorrebbe più pane d'oro adess...</td>\n",
              "      <td>Italian</td>\n",
              "    </tr>\n",
              "    <tr>\n",
              "      <th>5</th>\n",
              "      <td>мая  года был назначен тренером вратарей сбор...</td>\n",
              "      <td>Russian</td>\n",
              "    </tr>\n",
              "    <tr>\n",
              "      <th>6</th>\n",
              "      <td>cerro wichu kkollu är ett berg i bolivia det l...</td>\n",
              "      <td>Swedish</td>\n",
              "    </tr>\n",
              "    <tr>\n",
              "      <th>7</th>\n",
              "      <td>ടെറി നിങ്ങൾ യഥാർത്ഥത്തിൽ ആ മാലാഖയെപ്പോലെയാണ് ക...</td>\n",
              "      <td>Malayalam</td>\n",
              "    </tr>\n",
              "    <tr>\n",
              "      <th>8</th>\n",
              "      <td>francisco de miranda is een gemeente in de ven...</td>\n",
              "      <td>Dutch</td>\n",
              "    </tr>\n",
              "    <tr>\n",
              "      <th>9</th>\n",
              "      <td>في  أبريل م قدم الزعيم مصطفى النحاس مذكرة للسف...</td>\n",
              "      <td>Arabic</td>\n",
              "    </tr>\n",
              "    <tr>\n",
              "      <th>10</th>\n",
              "      <td>peugeot  aslında peugeot efsane kuşağının  ürü...</td>\n",
              "      <td>Turkish</td>\n",
              "    </tr>\n",
              "    <tr>\n",
              "      <th>11</th>\n",
              "      <td>Ihr zwei seid so nett</td>\n",
              "      <td>German</td>\n",
              "    </tr>\n",
              "    <tr>\n",
              "      <th>12</th>\n",
              "      <td>டெர்ரி நீங்கள் உண்மையில் அந்த தேவதையைப் போலவே ...</td>\n",
              "      <td>Tamil</td>\n",
              "    </tr>\n",
              "    <tr>\n",
              "      <th>13</th>\n",
              "      <td>terry du ser faktisk lidt ud som den engel, me...</td>\n",
              "      <td>Danish</td>\n",
              "    </tr>\n",
              "    <tr>\n",
              "      <th>14</th>\n",
              "      <td>ಟೆರ್ರಿ ನೀವು ನಿಜವಾಗಿಯೂ ಆ ದೇವದೂತನಂತೆ ಸ್ವಲ್ಪ ಕಾಣು...</td>\n",
              "      <td>Kannada</td>\n",
              "    </tr>\n",
              "    <tr>\n",
              "      <th>15</th>\n",
              "      <td>Terry, στην πραγματικότητα μοιάζεις λίγο με αυ...</td>\n",
              "      <td>Greek</td>\n",
              "    </tr>\n",
              "    <tr>\n",
              "      <th>16</th>\n",
              "      <td>यी की अपनी चित्रलिपि पर आधारित एक लिपि है जिसम...</td>\n",
              "      <td>Hindi</td>\n",
              "    </tr>\n",
              "    <tr>\n",
              "      <th>17</th>\n",
              "      <td>在演说中，他呼吁全人类团结起来，共同反对专制、贫困、疾病和战争，他在演说中提到的：“不要问你...</td>\n",
              "      <td>Chinese</td>\n",
              "    </tr>\n",
              "    <tr>\n",
              "      <th>18</th>\n",
              "      <td>artemisina plumosa adalah spesies spons yang t...</td>\n",
              "      <td>Indonesian</td>\n",
              "    </tr>\n",
              "    <tr>\n",
              "      <th>19</th>\n",
              "      <td>通称「モモ」。年組の女子生徒。お下げ髪にぽっちゃりした感じの顔つきが特徴（スズとは「ポッチャ...</td>\n",
              "      <td>Japanese</td>\n",
              "    </tr>\n",
              "    <tr>\n",
              "      <th>20</th>\n",
              "      <td>보건복지부 내부에서도 일단 환영 입장이다 행정부 내에서 보건복지부의 위상을 높일 수...</td>\n",
              "      <td>Korean</td>\n",
              "    </tr>\n",
              "  </tbody>\n",
              "</table>\n",
              "</div>\n",
              "      <button class=\"colab-df-convert\" onclick=\"convertToInteractive('df-1f8a4e6e-a8e2-42bf-8517-e0461c30d125')\"\n",
              "              title=\"Convert this dataframe to an interactive table.\"\n",
              "              style=\"display:none;\">\n",
              "        \n",
              "  <svg xmlns=\"http://www.w3.org/2000/svg\" height=\"24px\"viewBox=\"0 0 24 24\"\n",
              "       width=\"24px\">\n",
              "    <path d=\"M0 0h24v24H0V0z\" fill=\"none\"/>\n",
              "    <path d=\"M18.56 5.44l.94 2.06.94-2.06 2.06-.94-2.06-.94-.94-2.06-.94 2.06-2.06.94zm-11 1L8.5 8.5l.94-2.06 2.06-.94-2.06-.94L8.5 2.5l-.94 2.06-2.06.94zm10 10l.94 2.06.94-2.06 2.06-.94-2.06-.94-.94-2.06-.94 2.06-2.06.94z\"/><path d=\"M17.41 7.96l-1.37-1.37c-.4-.4-.92-.59-1.43-.59-.52 0-1.04.2-1.43.59L10.3 9.45l-7.72 7.72c-.78.78-.78 2.05 0 2.83L4 21.41c.39.39.9.59 1.41.59.51 0 1.02-.2 1.41-.59l7.78-7.78 2.81-2.81c.8-.78.8-2.07 0-2.86zM5.41 20L4 18.59l7.72-7.72 1.47 1.35L5.41 20z\"/>\n",
              "  </svg>\n",
              "      </button>\n",
              "      \n",
              "  <style>\n",
              "    .colab-df-container {\n",
              "      display:flex;\n",
              "      flex-wrap:wrap;\n",
              "      gap: 12px;\n",
              "    }\n",
              "\n",
              "    .colab-df-convert {\n",
              "      background-color: #E8F0FE;\n",
              "      border: none;\n",
              "      border-radius: 50%;\n",
              "      cursor: pointer;\n",
              "      display: none;\n",
              "      fill: #1967D2;\n",
              "      height: 32px;\n",
              "      padding: 0 0 0 0;\n",
              "      width: 32px;\n",
              "    }\n",
              "\n",
              "    .colab-df-convert:hover {\n",
              "      background-color: #E2EBFA;\n",
              "      box-shadow: 0px 1px 2px rgba(60, 64, 67, 0.3), 0px 1px 3px 1px rgba(60, 64, 67, 0.15);\n",
              "      fill: #174EA6;\n",
              "    }\n",
              "\n",
              "    [theme=dark] .colab-df-convert {\n",
              "      background-color: #3B4455;\n",
              "      fill: #D2E3FC;\n",
              "    }\n",
              "\n",
              "    [theme=dark] .colab-df-convert:hover {\n",
              "      background-color: #434B5C;\n",
              "      box-shadow: 0px 1px 3px 1px rgba(0, 0, 0, 0.15);\n",
              "      filter: drop-shadow(0px 1px 2px rgba(0, 0, 0, 0.3));\n",
              "      fill: #FFFFFF;\n",
              "    }\n",
              "  </style>\n",
              "\n",
              "      <script>\n",
              "        const buttonEl =\n",
              "          document.querySelector('#df-1f8a4e6e-a8e2-42bf-8517-e0461c30d125 button.colab-df-convert');\n",
              "        buttonEl.style.display =\n",
              "          google.colab.kernel.accessAllowed ? 'block' : 'none';\n",
              "\n",
              "        async function convertToInteractive(key) {\n",
              "          const element = document.querySelector('#df-1f8a4e6e-a8e2-42bf-8517-e0461c30d125');\n",
              "          const dataTable =\n",
              "            await google.colab.kernel.invokeFunction('convertToInteractive',\n",
              "                                                     [key], {});\n",
              "          if (!dataTable) return;\n",
              "\n",
              "          const docLinkHtml = 'Like what you see? Visit the ' +\n",
              "            '<a target=\"_blank\" href=https://colab.research.google.com/notebooks/data_table.ipynb>data table notebook</a>'\n",
              "            + ' to learn more about interactive tables.';\n",
              "          element.innerHTML = '';\n",
              "          dataTable['output_type'] = 'display_data';\n",
              "          await google.colab.output.renderOutput(dataTable, element);\n",
              "          const docLink = document.createElement('div');\n",
              "          docLink.innerHTML = docLinkHtml;\n",
              "          element.appendChild(docLink);\n",
              "        }\n",
              "      </script>\n",
              "    </div>\n",
              "  </div>\n",
              "  "
            ]
          },
          "metadata": {},
          "execution_count": 2
        }
      ]
    },
    {
      "cell_type": "code",
      "source": [
        "data[\"Language\"].value_counts()"
      ],
      "metadata": {
        "colab": {
          "base_uri": "https://localhost:8080/"
        },
        "id": "MwzlqHIJEGbY",
        "outputId": "d1217f9c-9d52-4495-da44-caeaabaa6b07"
      },
      "execution_count": null,
      "outputs": [
        {
          "output_type": "execute_result",
          "data": {
            "text/plain": [
              "English       901\n",
              "French        901\n",
              "Spanish       820\n",
              "Portuguese    740\n",
              "Italian       697\n",
              "Russian       693\n",
              "Swedish       677\n",
              "Malayalam     594\n",
              "Dutch         547\n",
              "Arabic        537\n",
              "Turkish       475\n",
              "German        470\n",
              "Tamil         469\n",
              "Danish        428\n",
              "Kannada       369\n",
              "Greek         365\n",
              "Chinese       301\n",
              "Indonesian    301\n",
              "Japanese      301\n",
              "Korean        301\n",
              "Hindi         113\n",
              "Name: Language, dtype: int64"
            ]
          },
          "metadata": {},
          "execution_count": 3
        }
      ]
    },
    {
      "cell_type": "code",
      "source": [
        "X = data[\"Text\"]\n",
        "y = data[\"Language\"]"
      ],
      "metadata": {
        "id": "_B0XoBuIEINR"
      },
      "execution_count": null,
      "outputs": []
    },
    {
      "cell_type": "markdown",
      "source": [
        "## data preprocessing"
      ],
      "metadata": {
        "id": "xWRzW_y45U1b"
      }
    },
    {
      "cell_type": "code",
      "source": [
        "from sklearn.preprocessing import LabelEncoder\n",
        "le = LabelEncoder()\n",
        "y = le.fit_transform(y)"
      ],
      "metadata": {
        "id": "CGy8gm9yEKsK"
      },
      "execution_count": null,
      "outputs": []
    },
    {
      "cell_type": "code",
      "source": [
        "data_list = []\n",
        "for x in X:\n",
        "        # removing the symbols and numbers\n",
        "        x = re.sub(r'[!@#$(),n\"%^*?:;~`0-9]', ' ', x)\n",
        "        x = re.sub(r'[[]]', ' ', x)\n",
        "        # converting the text to lower case\n",
        "        x = x.lower()\n",
        "        #remove mentions\n",
        "        x = re.sub('@\\S+' , ' ' , x)\n",
        "        #remove url\n",
        "        x = re.sub('https*\\S+' , ' ' , x)\n",
        "        #remove hastag\n",
        "        x= re.sub('#\\S+' , ' ' , x)\n",
        "        # appending to data_list\n",
        "        data_list.append(x)"
      ],
      "metadata": {
        "id": "pq7g-JQUEMN5"
      },
      "execution_count": null,
      "outputs": []
    },
    {
      "cell_type": "markdown",
      "source": [
        "### convert to BoW"
      ],
      "metadata": {
        "id": "B8DlDgZr59lh"
      }
    },
    {
      "cell_type": "code",
      "source": [
        "from sklearn.feature_extraction.text import CountVectorizer\n",
        "cv = CountVectorizer()\n",
        "X = cv.fit_transform(data_list).toarray()\n",
        "X.shape"
      ],
      "metadata": {
        "colab": {
          "base_uri": "https://localhost:8080/"
        },
        "id": "0uXjeTgoENby",
        "outputId": "e7eea551-ee54-46ca-9e05-009dca0acb9b"
      },
      "execution_count": null,
      "outputs": [
        {
          "output_type": "execute_result",
          "data": {
            "text/plain": [
              "(11000, 58874)"
            ]
          },
          "metadata": {},
          "execution_count": 7
        }
      ]
    },
    {
      "cell_type": "markdown",
      "source": [
        "## train test splitting"
      ],
      "metadata": {
        "id": "1Nf1lEgJ5YRy"
      }
    },
    {
      "cell_type": "code",
      "source": [
        "from sklearn.model_selection import train_test_split\n",
        "x_train, x_test, y_train, y_test = train_test_split(X, y, test_size = 0.20, random_state = 42)"
      ],
      "metadata": {
        "id": "-jKDud93EPHU"
      },
      "execution_count": null,
      "outputs": []
    },
    {
      "cell_type": "markdown",
      "source": [
        "## building model"
      ],
      "metadata": {
        "id": "hzArpGiS5bQF"
      }
    },
    {
      "cell_type": "code",
      "source": [
        "class Multinomial:\n",
        "  def __init__(self,alpha=1):\n",
        "    self.alpha = alpha\n",
        "    \n",
        "  def _prior(self):\n",
        "    P = np.zeros((self.n_classes_))\n",
        "    _, self.dist = np.unique(self.y,return_counts=True)\n",
        "    for i in range(self.classes_.shape[0]):\n",
        "        P[i] = self.dist[i] / self.n_samples\n",
        "    return P\n",
        "    \n",
        "\n",
        "  def fit(self, X, y):\n",
        "    self.X = X\n",
        "    self.y = y\n",
        "    self.n_samples, self.n_features = X.shape\n",
        "    self.classes_ = np.unique(y)\n",
        "    self.n_classes_ = self.classes_.shape[0]\n",
        "    self.class_priors_ = self._prior()\n",
        "    \n",
        "    self.uniques = []\n",
        "    for i in range(self.n_features):\n",
        "        tmp = np.unique(X[:,i])\n",
        "        self.uniques.append( tmp )\n",
        "        \n",
        "    self.N_yi = np.zeros((self.n_classes_, self.n_features))\n",
        "    self.N_y = np.zeros((self.n_classes_)) \n",
        "    for i in self.classes_:\n",
        "        indices = np.argwhere(self.y==i).flatten()\n",
        "        columnwise_sum = []\n",
        "        for j in range(self.n_features):\n",
        "            columnwise_sum.append(np.sum(X[indices,j]))\n",
        "            \n",
        "        self.N_yi[i] = columnwise_sum\n",
        "        self.N_y[i] = np.sum(columnwise_sum)\n",
        "    \n",
        "\n",
        "  def _theta(self, x_i, i, h):\n",
        "    Nyi = self.N_yi[h,i]\n",
        "    Ny  = self.N_y[h]\n",
        "    \n",
        "    numerator = Nyi + self.alpha\n",
        "    denominator = Ny + (self.alpha * self.n_features)\n",
        "    \n",
        "    return  (numerator / denominator)**x_i\n",
        "  \n",
        "\n",
        "  def _likelyhood(self, x, h):\n",
        "    tmp = []\n",
        "    for i in range(x.shape[0]):\n",
        "        tmp.append(self._theta(x[i], i,h))\n",
        "    \n",
        "    return np.prod(tmp)\n",
        "  \n",
        "\n",
        "  def predict(self, X):\n",
        "    samples, features = X.shape\n",
        "    self.predict_proba = np.zeros((samples,self.n_classes_))\n",
        "    \n",
        "    for i in range(X.shape[0]):\n",
        "        joint_likelyhood = np.zeros((self.n_classes_))\n",
        "        \n",
        "        for h in range(self.n_classes_):\n",
        "            joint_likelyhood[h]  = self.class_priors_[h] * self._likelyhood(X[i],h)\n",
        "            \n",
        "        denominator = np.sum(joint_likelyhood)\n",
        "        \n",
        "        for h in range(self.n_classes_):\n",
        "            numerator = joint_likelyhood[h]\n",
        "            self.predict_proba[i,h] = (numerator / denominator)\n",
        "        \n",
        "    indices = np.argmax(self.predict_proba,axis=1)\n",
        "    return self.classes_[indices]"
      ],
      "metadata": {
        "id": "1_opd_pooJAW"
      },
      "execution_count": null,
      "outputs": []
    },
    {
      "cell_type": "markdown",
      "source": [
        "## implement model"
      ],
      "metadata": {
        "id": "O4XhksfL5n5J"
      }
    },
    {
      "cell_type": "code",
      "source": [
        "model = Multinomial()\n",
        "model.fit(x_train, y_train)"
      ],
      "metadata": {
        "id": "jzYDfioPEQZU"
      },
      "execution_count": null,
      "outputs": []
    },
    {
      "cell_type": "code",
      "source": [
        "y_pred = model.predict(x_test)"
      ],
      "metadata": {
        "id": "uR4L6MXyER7n"
      },
      "execution_count": null,
      "outputs": []
    },
    {
      "cell_type": "code",
      "source": [
        "from sklearn.naive_bayes import MultinomialNB\n",
        "modelnb = MultinomialNB()\n",
        "modelnb.fit(x_train, y_train)\n",
        "y_predsk = modelnb.predict(x_test)"
      ],
      "metadata": {
        "id": "QGpKHx25--I2"
      },
      "execution_count": null,
      "outputs": []
    },
    {
      "cell_type": "markdown",
      "source": [
        "## evaluation"
      ],
      "metadata": {
        "id": "rVg-OqPg5p0b"
      }
    },
    {
      "cell_type": "code",
      "source": [
        "from sklearn.metrics import accuracy_score, confusion_matrix\n",
        "ac = accuracy_score(y_test, y_pred)\n",
        "acl = accuracy_score(y_test, y_predsk)\n",
        "cm = confusion_matrix(y_test, y_pred)\n",
        "\n",
        "print(\"Accuracy scratch is :\",ac)\n",
        "print(\"Accuracy library is :\",acl)"
      ],
      "metadata": {
        "id": "4wQXKcmlEoPZ",
        "colab": {
          "base_uri": "https://localhost:8080/"
        },
        "outputId": "a756f5ef-817d-41af-adad-a2a9bedd4202"
      },
      "execution_count": null,
      "outputs": [
        {
          "output_type": "stream",
          "name": "stdout",
          "text": [
            "Accuracy scratch is : 0.9268181818181818\n",
            "Accuracy library is : 0.9459090909090909\n"
          ]
        }
      ]
    },
    {
      "cell_type": "code",
      "source": [
        "plt.figure(figsize=(15,10))\n",
        "sns.heatmap(cm, annot = True)\n",
        "plt.show()"
      ],
      "metadata": {
        "id": "yL4qr2WPEqfQ",
        "colab": {
          "base_uri": "https://localhost:8080/",
          "height": 592
        },
        "outputId": "7f1c7b65-ae6e-4137-addb-68425df36586"
      },
      "execution_count": null,
      "outputs": [
        {
          "output_type": "display_data",
          "data": {
            "text/plain": [
              "<Figure size 1080x720 with 2 Axes>"
            ],
            "image/png": "[encoded data removed]"
          },
          "metadata": {
            "needs_background": "light"
          }
        }
      ]
    },
    {
      "cell_type": "markdown",
      "source": [
        "## predicting text"
      ],
      "metadata": {
        "id": "Lb_LK7qs5sRO"
      }
    },
    {
      "cell_type": "code",
      "source": [
        "def predict(text):\n",
        "     x = cv.transform([text]).toarray() # converting text to bag of words model (Vector)\n",
        "     lang = model.predict(x) # predicting the language\n",
        "     lang = le.inverse_transform(lang) # finding the language corresponding the the predicted value\n",
        "     print(\"The language is in\",lang[0]) # printing the language"
      ],
      "metadata": {
        "id": "tGdESQitEtyM"
      },
      "execution_count": null,
      "outputs": []
    },
    {
      "cell_type": "code",
      "source": [
        "predict(\"Where is this? Who am i?\")"
      ],
      "metadata": {
        "id": "ph_id6D7E43W",
        "colab": {
          "base_uri": "https://localhost:8080/"
        },
        "outputId": "0da64c8f-d21a-4ec9-ef42-9c2db7934632"
      },
      "execution_count": null,
      "outputs": [
        {
          "output_type": "stream",
          "name": "stdout",
          "text": [
            "The language is in English\n"
          ]
        }
      ]
    },
    {
      "cell_type": "code",
      "source": [
        "predict(\"أين هذا؟ من أنا؟\")"
      ],
      "metadata": {
        "id": "Bswk1UyQE-hv",
        "colab": {
          "base_uri": "https://localhost:8080/"
        },
        "outputId": "92ab3b79-e592-4dfd-c305-f5cc0c71b605"
      },
      "execution_count": null,
      "outputs": [
        {
          "output_type": "stream",
          "name": "stdout",
          "text": [
            "The language is in Arabic\n"
          ]
        }
      ]
    },
    {
      "cell_type": "code",
      "source": [
        "predict(\"¿donde está esto? ¿quién soy?\")"
      ],
      "metadata": {
        "id": "LQIoLhy4Gdqf",
        "colab": {
          "base_uri": "https://localhost:8080/"
        },
        "outputId": "a02cd953-16c5-4c7d-9e3b-cb744d5f72c0"
      },
      "execution_count": null,
      "outputs": [
        {
          "output_type": "stream",
          "name": "stdout",
          "text": [
            "The language is in Spanish\n"
          ]
        }
      ]
    },
    {
      "cell_type": "code",
      "source": [
        "predict(\"dov'è questo? chi sono?\")"
      ],
      "metadata": {
        "id": "fSsIFTjhR6oB",
        "colab": {
          "base_uri": "https://localhost:8080/"
        },
        "outputId": "6708433f-8ff4-478f-ffb1-10a7f73a07fb"
      },
      "execution_count": null,
      "outputs": [
        {
          "output_type": "stream",
          "name": "stdout",
          "text": [
            "The language is in Italian\n"
          ]
        }
      ]
    },
    {
      "cell_type": "code",
      "source": [
        "predict(\"wo ist das? Wer bin ich?\")"
      ],
      "metadata": {
        "id": "Negov7gbSP7_",
        "colab": {
          "base_uri": "https://localhost:8080/"
        },
        "outputId": "716a45f1-efb5-4906-f717-7be5456b4540"
      },
      "execution_count": null,
      "outputs": [
        {
          "output_type": "stream",
          "name": "stdout",
          "text": [
            "The language is in German\n"
          ]
        }
      ]
    },
    {
      "cell_type": "code",
      "source": [
        "predict(\"இது எங்கு இருக்கிறது? நான் யார்?\")"
      ],
      "metadata": {
        "id": "s2n4r0gcSp8L",
        "colab": {
          "base_uri": "https://localhost:8080/"
        },
        "outputId": "20dd5ab2-66a5-4155-ffec-7a8dae6c6dc7"
      },
      "execution_count": null,
      "outputs": [
        {
          "output_type": "stream",
          "name": "stdout",
          "text": [
            "The language is in Tamil\n"
          ]
        }
      ]
    },
    {
      "cell_type": "code",
      "source": [
        "predict(\"где это? кто я?\")"
      ],
      "metadata": {
        "id": "QgR_jY9ES0p3",
        "colab": {
          "base_uri": "https://localhost:8080/"
        },
        "outputId": "c57e062d-cd62-4abe-c3e4-fe3c03a96c95"
      },
      "execution_count": null,
      "outputs": [
        {
          "output_type": "stream",
          "name": "stdout",
          "text": [
            "The language is in Russian\n"
          ]
        }
      ]
    },
    {
      "cell_type": "code",
      "source": [
        "predict(\"ここはどこ?私は誰?\")"
      ],
      "metadata": {
        "id": "uaERZvZ72Hin",
        "colab": {
          "base_uri": "https://localhost:8080/"
        },
        "outputId": "f4a454cc-0175-4d97-bb57-93c00f52f448"
      },
      "execution_count": null,
      "outputs": [
        {
          "output_type": "stream",
          "name": "stdout",
          "text": [
            "The language is in Japanese\n"
          ]
        }
      ]
    },
    {
      "cell_type": "code",
      "source": [
        "predict(\"Ini dimana? Siapa saya?\")"
      ],
      "metadata": {
        "colab": {
          "base_uri": "https://localhost:8080/"
        },
        "id": "079ptdPGUTq3",
        "outputId": "8c282e26-5fcf-4442-ad33-ba0886e7577b"
      },
      "execution_count": null,
      "outputs": [
        {
          "output_type": "stream",
          "name": "stdout",
          "text": [
            "The language is in Indonesian\n"
          ]
        }
      ]
    },
    {
      "cell_type": "code",
      "source": [
        "predict(\"यह कहां है? मैं कौन हूँ?\")"
      ],
      "metadata": {
        "id": "QzWpH8M43NvM",
        "colab": {
          "base_uri": "https://localhost:8080/"
        },
        "outputId": "b4431aab-a91c-41dc-b1c1-83ec7284c2ca"
      },
      "execution_count": null,
      "outputs": [
        {
          "output_type": "stream",
          "name": "stdout",
          "text": [
            "The language is in Hindi\n"
          ]
        }
      ]
    },
    {
      "cell_type": "code",
      "source": [
        "predict(\"моје име је Виллиам\")\n",
        "# This is Serbian (not in dataset)"
      ],
      "metadata": {
        "colab": {
          "base_uri": "https://localhost:8080/"
        },
        "id": "yaVecl2FSi70",
        "outputId": "9d2a9002-4735-4305-e27c-082df4e96bc8"
      },
      "execution_count": null,
      "outputs": [
        {
          "output_type": "stream",
          "name": "stdout",
          "text": [
            "The language is in English\n"
          ]
        }
      ]
    },
    {
      "cell_type": "markdown",
      "source": [
        "### predict with user input"
      ],
      "metadata": {
        "id": "ivWGldxs5v6U"
      }
    },
    {
      "cell_type": "code",
      "source": [
        "#text = input(\"Input Sentence: \")\n",
        "#predict(text)"
      ],
      "metadata": {
        "id": "TD4UpRoFLbBL"
      },
      "execution_count": null,
      "outputs": []
    }
  ]
}