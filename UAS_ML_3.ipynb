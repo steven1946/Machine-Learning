{
  "nbformat": 4,
  "nbformat_minor": 0,
  "metadata": {
    "colab": {
      "provenance": [],
      "collapsed_sections": [],
      "authorship_tag": "ABX9TyME+kBi8Y96nsm8M0+YiHoS"
    },
    "kernelspec": {
      "name": "python3",
      "display_name": "Python 3"
    },
    "language_info": {
      "name": "python"
    }
  },
  "cells": [
    {
      "cell_type": "code",
      "execution_count": null,
      "metadata": {
        "id": "TnRDU8Jr3V6D"
      },
      "outputs": [],
      "source": [
        "import pandas as pd\n",
        "import seaborn as sns\n",
        "import matplotlib.pyplot as plt\n",
        "import numpy as np\n",
        "import sklearn.cluster as cluster\n",
        "import sklearn.metrics as metrics\n",
        "\n",
        "from sklearn.model_selection import GridSearchCV\n",
        "from sklearn.preprocessing import StandardScaler\n",
        "from sklearn.pipeline import Pipeline\n",
        "from sklearn.svm import SVC\n",
        "from sklearn.feature_selection import SelectKBest\n",
        "from sklearn.feature_selection import f_classif\n",
        "from scipy import stats\n",
        "from sklearn.model_selection import train_test_split\n",
        "from sklearn.neighbors import KNeighborsClassifier\n",
        "from sklearn.cluster import KMeans\n",
        "from sklearn.metrics import classification_report"
      ]
    },
    {
      "cell_type": "code",
      "source": [
        "df = pd.read_csv('https://raw.githubusercontent.com/steven1946/Machine-Learning/main/UAS/experiment.csv')"
      ],
      "metadata": {
        "id": "uBORwx1wJJGm"
      },
      "execution_count": null,
      "outputs": []
    },
    {
      "cell_type": "code",
      "source": [
        "df.head()"
      ],
      "metadata": {
        "colab": {
          "base_uri": "https://localhost:8080/",
          "height": 300
        },
        "id": "OW2_LCb4KaI3",
        "outputId": "6aa3fe45-9265-49e7-f23a-f502f06c6acf"
      },
      "execution_count": null,
      "outputs": [
        {
          "output_type": "execute_result",
          "data": {
            "text/plain": [
              "         F1   F2        F3        F4   F5        F6        F7        F8  \\\n",
              "0  0.006711  0.0  0.013423  0.006711  0.0  0.006711  0.006711  0.020134   \n",
              "1  0.000000  0.0  0.000000  0.007246  0.0  0.000000  0.000000  0.021739   \n",
              "2  0.011696  0.0  0.005848  0.000000  0.0  0.005848  0.000000  0.035088   \n",
              "3  0.000000  0.0  0.020833  0.000000  0.0  0.000000  0.010417  0.000000   \n",
              "4  0.000000  0.0  0.034483  0.000000  0.0  0.000000  0.000000  0.000000   \n",
              "\n",
              "         F9       F10  ...      F192      F193      F194      F195      F196  \\\n",
              "0  0.020134  0.000000  ...  0.013423  0.000000  0.006711  0.013423  0.020134   \n",
              "1  0.014493  0.000000  ...  0.007246  0.007246  0.000000  0.000000  0.014493   \n",
              "2  0.017544  0.017544  ...  0.005848  0.000000  0.005848  0.011696  0.035088   \n",
              "3  0.020833  0.000000  ...  0.010417  0.000000  0.000000  0.041667  0.000000   \n",
              "4  0.034483  0.000000  ...  0.017241  0.000000  0.000000  0.068966  0.000000   \n",
              "\n",
              "       F197  F198      F199  F200  Class  \n",
              "0  0.006711   0.0  0.006711   0.0      1  \n",
              "1  0.000000   0.0  0.007246   0.0      1  \n",
              "2  0.005848   0.0  0.000000   0.0      1  \n",
              "3  0.000000   0.0  0.000000   0.0      1  \n",
              "4  0.000000   0.0  0.000000   0.0      1  \n",
              "\n",
              "[5 rows x 201 columns]"
            ],
            "text/html": [
              "\n",
              "  <div id=\"df-d282f631-f31d-4f65-8ace-6390597740db\">\n",
              "    <div class=\"colab-df-container\">\n",
              "      <div>\n",
              "<style scoped>\n",
              "    .dataframe tbody tr th:only-of-type {\n",
              "        vertical-align: middle;\n",
              "    }\n",
              "\n",
              "    .dataframe tbody tr th {\n",
              "        vertical-align: top;\n",
              "    }\n",
              "\n",
              "    .dataframe thead th {\n",
              "        text-align: right;\n",
              "    }\n",
              "</style>\n",
              "<table border=\"1\" class=\"dataframe\">\n",
              "  <thead>\n",
              "    <tr style=\"text-align: right;\">\n",
              "      <th></th>\n",
              "      <th>F1</th>\n",
              "      <th>F2</th>\n",
              "      <th>F3</th>\n",
              "      <th>F4</th>\n",
              "      <th>F5</th>\n",
              "      <th>F6</th>\n",
              "      <th>F7</th>\n",
              "      <th>F8</th>\n",
              "      <th>F9</th>\n",
              "      <th>F10</th>\n",
              "      <th>...</th>\n",
              "      <th>F192</th>\n",
              "      <th>F193</th>\n",
              "      <th>F194</th>\n",
              "      <th>F195</th>\n",
              "      <th>F196</th>\n",
              "      <th>F197</th>\n",
              "      <th>F198</th>\n",
              "      <th>F199</th>\n",
              "      <th>F200</th>\n",
              "      <th>Class</th>\n",
              "    </tr>\n",
              "  </thead>\n",
              "  <tbody>\n",
              "    <tr>\n",
              "      <th>0</th>\n",
              "      <td>0.006711</td>\n",
              "      <td>0.0</td>\n",
              "      <td>0.013423</td>\n",
              "      <td>0.006711</td>\n",
              "      <td>0.0</td>\n",
              "      <td>0.006711</td>\n",
              "      <td>0.006711</td>\n",
              "      <td>0.020134</td>\n",
              "      <td>0.020134</td>\n",
              "      <td>0.000000</td>\n",
              "      <td>...</td>\n",
              "      <td>0.013423</td>\n",
              "      <td>0.000000</td>\n",
              "      <td>0.006711</td>\n",
              "      <td>0.013423</td>\n",
              "      <td>0.020134</td>\n",
              "      <td>0.006711</td>\n",
              "      <td>0.0</td>\n",
              "      <td>0.006711</td>\n",
              "      <td>0.0</td>\n",
              "      <td>1</td>\n",
              "    </tr>\n",
              "    <tr>\n",
              "      <th>1</th>\n",
              "      <td>0.000000</td>\n",
              "      <td>0.0</td>\n",
              "      <td>0.000000</td>\n",
              "      <td>0.007246</td>\n",
              "      <td>0.0</td>\n",
              "      <td>0.000000</td>\n",
              "      <td>0.000000</td>\n",
              "      <td>0.021739</td>\n",
              "      <td>0.014493</td>\n",
              "      <td>0.000000</td>\n",
              "      <td>...</td>\n",
              "      <td>0.007246</td>\n",
              "      <td>0.007246</td>\n",
              "      <td>0.000000</td>\n",
              "      <td>0.000000</td>\n",
              "      <td>0.014493</td>\n",
              "      <td>0.000000</td>\n",
              "      <td>0.0</td>\n",
              "      <td>0.007246</td>\n",
              "      <td>0.0</td>\n",
              "      <td>1</td>\n",
              "    </tr>\n",
              "    <tr>\n",
              "      <th>2</th>\n",
              "      <td>0.011696</td>\n",
              "      <td>0.0</td>\n",
              "      <td>0.005848</td>\n",
              "      <td>0.000000</td>\n",
              "      <td>0.0</td>\n",
              "      <td>0.005848</td>\n",
              "      <td>0.000000</td>\n",
              "      <td>0.035088</td>\n",
              "      <td>0.017544</td>\n",
              "      <td>0.017544</td>\n",
              "      <td>...</td>\n",
              "      <td>0.005848</td>\n",
              "      <td>0.000000</td>\n",
              "      <td>0.005848</td>\n",
              "      <td>0.011696</td>\n",
              "      <td>0.035088</td>\n",
              "      <td>0.005848</td>\n",
              "      <td>0.0</td>\n",
              "      <td>0.000000</td>\n",
              "      <td>0.0</td>\n",
              "      <td>1</td>\n",
              "    </tr>\n",
              "    <tr>\n",
              "      <th>3</th>\n",
              "      <td>0.000000</td>\n",
              "      <td>0.0</td>\n",
              "      <td>0.020833</td>\n",
              "      <td>0.000000</td>\n",
              "      <td>0.0</td>\n",
              "      <td>0.000000</td>\n",
              "      <td>0.010417</td>\n",
              "      <td>0.000000</td>\n",
              "      <td>0.020833</td>\n",
              "      <td>0.000000</td>\n",
              "      <td>...</td>\n",
              "      <td>0.010417</td>\n",
              "      <td>0.000000</td>\n",
              "      <td>0.000000</td>\n",
              "      <td>0.041667</td>\n",
              "      <td>0.000000</td>\n",
              "      <td>0.000000</td>\n",
              "      <td>0.0</td>\n",
              "      <td>0.000000</td>\n",
              "      <td>0.0</td>\n",
              "      <td>1</td>\n",
              "    </tr>\n",
              "    <tr>\n",
              "      <th>4</th>\n",
              "      <td>0.000000</td>\n",
              "      <td>0.0</td>\n",
              "      <td>0.034483</td>\n",
              "      <td>0.000000</td>\n",
              "      <td>0.0</td>\n",
              "      <td>0.000000</td>\n",
              "      <td>0.000000</td>\n",
              "      <td>0.000000</td>\n",
              "      <td>0.034483</td>\n",
              "      <td>0.000000</td>\n",
              "      <td>...</td>\n",
              "      <td>0.017241</td>\n",
              "      <td>0.000000</td>\n",
              "      <td>0.000000</td>\n",
              "      <td>0.068966</td>\n",
              "      <td>0.000000</td>\n",
              "      <td>0.000000</td>\n",
              "      <td>0.0</td>\n",
              "      <td>0.000000</td>\n",
              "      <td>0.0</td>\n",
              "      <td>1</td>\n",
              "    </tr>\n",
              "  </tbody>\n",
              "</table>\n",
              "<p>5 rows × 201 columns</p>\n",
              "</div>\n",
              "      <button class=\"colab-df-convert\" onclick=\"convertToInteractive('df-d282f631-f31d-4f65-8ace-6390597740db')\"\n",
              "              title=\"Convert this dataframe to an interactive table.\"\n",
              "              style=\"display:none;\">\n",
              "        \n",
              "  <svg xmlns=\"http://www.w3.org/2000/svg\" height=\"24px\"viewBox=\"0 0 24 24\"\n",
              "       width=\"24px\">\n",
              "    <path d=\"M0 0h24v24H0V0z\" fill=\"none\"/>\n",
              "    <path d=\"M18.56 5.44l.94 2.06.94-2.06 2.06-.94-2.06-.94-.94-2.06-.94 2.06-2.06.94zm-11 1L8.5 8.5l.94-2.06 2.06-.94-2.06-.94L8.5 2.5l-.94 2.06-2.06.94zm10 10l.94 2.06.94-2.06 2.06-.94-2.06-.94-.94-2.06-.94 2.06-2.06.94z\"/><path d=\"M17.41 7.96l-1.37-1.37c-.4-.4-.92-.59-1.43-.59-.52 0-1.04.2-1.43.59L10.3 9.45l-7.72 7.72c-.78.78-.78 2.05 0 2.83L4 21.41c.39.39.9.59 1.41.59.51 0 1.02-.2 1.41-.59l7.78-7.78 2.81-2.81c.8-.78.8-2.07 0-2.86zM5.41 20L4 18.59l7.72-7.72 1.47 1.35L5.41 20z\"/>\n",
              "  </svg>\n",
              "      </button>\n",
              "      \n",
              "  <style>\n",
              "    .colab-df-container {\n",
              "      display:flex;\n",
              "      flex-wrap:wrap;\n",
              "      gap: 12px;\n",
              "    }\n",
              "\n",
              "    .colab-df-convert {\n",
              "      background-color: #E8F0FE;\n",
              "      border: none;\n",
              "      border-radius: 50%;\n",
              "      cursor: pointer;\n",
              "      display: none;\n",
              "      fill: #1967D2;\n",
              "      height: 32px;\n",
              "      padding: 0 0 0 0;\n",
              "      width: 32px;\n",
              "    }\n",
              "\n",
              "    .colab-df-convert:hover {\n",
              "      background-color: #E2EBFA;\n",
              "      box-shadow: 0px 1px 2px rgba(60, 64, 67, 0.3), 0px 1px 3px 1px rgba(60, 64, 67, 0.15);\n",
              "      fill: #174EA6;\n",
              "    }\n",
              "\n",
              "    [theme=dark] .colab-df-convert {\n",
              "      background-color: #3B4455;\n",
              "      fill: #D2E3FC;\n",
              "    }\n",
              "\n",
              "    [theme=dark] .colab-df-convert:hover {\n",
              "      background-color: #434B5C;\n",
              "      box-shadow: 0px 1px 3px 1px rgba(0, 0, 0, 0.15);\n",
              "      filter: drop-shadow(0px 1px 2px rgba(0, 0, 0, 0.3));\n",
              "      fill: #FFFFFF;\n",
              "    }\n",
              "  </style>\n",
              "\n",
              "      <script>\n",
              "        const buttonEl =\n",
              "          document.querySelector('#df-d282f631-f31d-4f65-8ace-6390597740db button.colab-df-convert');\n",
              "        buttonEl.style.display =\n",
              "          google.colab.kernel.accessAllowed ? 'block' : 'none';\n",
              "\n",
              "        async function convertToInteractive(key) {\n",
              "          const element = document.querySelector('#df-d282f631-f31d-4f65-8ace-6390597740db');\n",
              "          const dataTable =\n",
              "            await google.colab.kernel.invokeFunction('convertToInteractive',\n",
              "                                                     [key], {});\n",
              "          if (!dataTable) return;\n",
              "\n",
              "          const docLinkHtml = 'Like what you see? Visit the ' +\n",
              "            '<a target=\"_blank\" href=https://colab.research.google.com/notebooks/data_table.ipynb>data table notebook</a>'\n",
              "            + ' to learn more about interactive tables.';\n",
              "          element.innerHTML = '';\n",
              "          dataTable['output_type'] = 'display_data';\n",
              "          await google.colab.output.renderOutput(dataTable, element);\n",
              "          const docLink = document.createElement('div');\n",
              "          docLink.innerHTML = docLinkHtml;\n",
              "          element.appendChild(docLink);\n",
              "        }\n",
              "      </script>\n",
              "    </div>\n",
              "  </div>\n",
              "  "
            ]
          },
          "metadata": {},
          "execution_count": 3
        }
      ]
    },
    {
      "cell_type": "markdown",
      "source": [
        "Outlier Detection"
      ],
      "metadata": {
        "id": "lJkOYrOBrzy9"
      }
    },
    {
      "cell_type": "code",
      "source": [
        "z_scores = stats.zscore(df)\n",
        "z_scores"
      ],
      "metadata": {
        "colab": {
          "base_uri": "https://localhost:8080/"
        },
        "id": "4q8hA6f4rw_J",
        "outputId": "6701973f-f77f-4e9e-bec8-64184093ef9f"
      },
      "execution_count": null,
      "outputs": [
        {
          "output_type": "execute_result",
          "data": {
            "text/plain": [
              "array([[-0.0427896 , -0.57454216,  1.13461489, ...,  0.34179386,\n",
              "        -0.49211189, -1.41421356],\n",
              "       [-0.58148916, -0.57454216, -0.43974027, ...,  0.40989316,\n",
              "        -0.49211189, -1.41421356],\n",
              "       [ 0.35729731, -0.57454216,  0.24616297, ..., -0.51254179,\n",
              "        -0.49211189, -1.41421356],\n",
              "       ...,\n",
              "       [ 0.6165144 , -0.57454216, -0.43974027, ..., -0.51254179,\n",
              "         2.90943485,  1.41421356],\n",
              "       [-0.58148916,  1.40425033,  1.61796956, ..., -0.51254179,\n",
              "         3.50619755,  1.41421356],\n",
              "       [ 0.80241157, -0.57454216, -0.43974027, ..., -0.51254179,\n",
              "         3.43726126,  1.41421356]])"
            ]
          },
          "metadata": {},
          "execution_count": 88
        }
      ]
    },
    {
      "cell_type": "code",
      "source": [
        "abs_z_scores = np.abs(z_scores)\n",
        "filtered_entries = (abs_z_scores < 3).all(axis=1)\n",
        "df_wo_outliers = df[filtered_entries]"
      ],
      "metadata": {
        "id": "4g1uXjeEr1lf"
      },
      "execution_count": null,
      "outputs": []
    },
    {
      "cell_type": "code",
      "source": [
        "df_wo_outliers.shape"
      ],
      "metadata": {
        "colab": {
          "base_uri": "https://localhost:8080/"
        },
        "id": "17h3BDZKsEm0",
        "outputId": "b5070515-6caa-42b3-8198-731f180c8708"
      },
      "execution_count": null,
      "outputs": [
        {
          "output_type": "execute_result",
          "data": {
            "text/plain": [
              "(276, 201)"
            ]
          },
          "metadata": {},
          "execution_count": 90
        }
      ]
    },
    {
      "cell_type": "code",
      "source": [
        "sns.heatmap(df_wo_outliers.corr(), annot=True)"
      ],
      "metadata": {
        "colab": {
          "base_uri": "https://localhost:8080/",
          "height": 303
        },
        "id": "5rvBdgFonaLY",
        "outputId": "0734f466-55bd-4fc0-c113-5d593227faf5"
      },
      "execution_count": null,
      "outputs": [
        {
          "output_type": "execute_result",
          "data": {
            "text/plain": [
              "<matplotlib.axes._subplots.AxesSubplot at 0x7f07107a61d0>"
            ]
          },
          "metadata": {},
          "execution_count": 7
        },
        {
          "output_type": "display_data",
          "data": {
            "text/plain": [
              "<Figure size 432x288 with 2 Axes>"
            ],
            "image/png": "[encoded data removed]"
          },
          "metadata": {
            "needs_background": "light"
          }
        }
      ]
    },
    {
      "cell_type": "markdown",
      "source": [
        "Semua nominal yang amsih di atas 0.3 diambil"
      ],
      "metadata": {
        "id": "foXAFp6EsOdP"
      }
    },
    {
      "cell_type": "code",
      "source": [
        "corr_matrix = df_wo_outliers.corr().abs()\n",
        "\n",
        "upper = corr_matrix.where((np.triu(np.ones(corr_matrix.shape), k=1) + np.tril(np.ones(corr_matrix.shape), k=-1)).astype(bool))\n",
        "\n",
        "\n",
        "to_drop = [column for column in upper.columns if any(upper[column] > 0.5)]\n",
        "\n",
        "# Drop features \n",
        "df1 = df_wo_outliers.filter(to_drop, axis=1)"
      ],
      "metadata": {
        "id": "q9eePcV1of_M"
      },
      "execution_count": null,
      "outputs": []
    },
    {
      "cell_type": "code",
      "source": [
        "print(to_drop)"
      ],
      "metadata": {
        "colab": {
          "base_uri": "https://localhost:8080/"
        },
        "id": "rEwRuvkb3HG7",
        "outputId": "1ec8a12b-53f6-462e-9e07-2a0ffe994b8a"
      },
      "execution_count": null,
      "outputs": [
        {
          "output_type": "stream",
          "name": "stdout",
          "text": [
            "['F47', 'F115', 'F132', 'F148', 'F186']\n"
          ]
        }
      ]
    },
    {
      "cell_type": "code",
      "source": [
        "print(df1.head())"
      ],
      "metadata": {
        "colab": {
          "base_uri": "https://localhost:8080/"
        },
        "id": "jytVZmQgzY5f",
        "outputId": "1e9d8fa9-278d-41d8-d62f-9314e7db95e7"
      },
      "execution_count": null,
      "outputs": [
        {
          "output_type": "stream",
          "name": "stdout",
          "text": [
            "    F47      F115  F132  F148  F186\n",
            "1   0.0  0.000000   0.0   0.0   0.0\n",
            "6   0.0  0.004926   0.0   0.0   0.0\n",
            "27  0.0  0.000000   0.0   0.0   0.0\n",
            "32  0.0  0.000000   0.0   0.0   0.0\n",
            "33  0.0  0.000000   0.0   0.0   0.0\n"
          ]
        }
      ]
    },
    {
      "cell_type": "code",
      "source": [
        "y = df_wo_outliers[['Class']]\n",
        "X = df_wo_outliers.drop(['Class'], axis=1)"
      ],
      "metadata": {
        "id": "ULGjWxm4u7C3"
      },
      "execution_count": null,
      "outputs": []
    },
    {
      "cell_type": "code",
      "source": [
        "df1['Class'] = y"
      ],
      "metadata": {
        "id": "_BkgMMBgTYZI"
      },
      "execution_count": null,
      "outputs": []
    },
    {
      "cell_type": "code",
      "source": [
        "sns.heatmap(df1.corr(), annot=True)"
      ],
      "metadata": {
        "colab": {
          "base_uri": "https://localhost:8080/",
          "height": 286
        },
        "id": "XlRkpoqFpItM",
        "outputId": "e6287d9c-c217-4790-bc41-325ec918c6b6"
      },
      "execution_count": null,
      "outputs": [
        {
          "output_type": "execute_result",
          "data": {
            "text/plain": [
              "<matplotlib.axes._subplots.AxesSubplot at 0x7f06f9359c50>"
            ]
          },
          "metadata": {},
          "execution_count": 96
        },
        {
          "output_type": "display_data",
          "data": {
            "text/plain": [
              "<Figure size 432x288 with 2 Axes>"
            ],
            "image/png": "[encoded data removed]"
          },
          "metadata": {
            "needs_background": "light"
          }
        }
      ]
    },
    {
      "cell_type": "code",
      "source": [
        "df1 = df1.drop(['F115'] ,axis=1)\n",
        "sns.heatmap(df1.corr(), annot=True)"
      ],
      "metadata": {
        "id": "soZCLuqpwOj9",
        "colab": {
          "base_uri": "https://localhost:8080/",
          "height": 286
        },
        "outputId": "e6221d74-5d39-4836-b152-227c930d2068"
      },
      "execution_count": null,
      "outputs": [
        {
          "output_type": "execute_result",
          "data": {
            "text/plain": [
              "<matplotlib.axes._subplots.AxesSubplot at 0x7f06fa351890>"
            ]
          },
          "metadata": {},
          "execution_count": 42
        },
        {
          "output_type": "display_data",
          "data": {
            "text/plain": [
              "<Figure size 432x288 with 2 Axes>"
            ],
            "image/png": "[encoded data removed]"
          },
          "metadata": {
            "needs_background": "light"
          }
        }
      ]
    },
    {
      "cell_type": "code",
      "source": [
        "df1 = df1.drop(['F186'] ,axis=1)\n",
        "sns.heatmap(df1.corr(), annot=True)"
      ],
      "metadata": {
        "id": "eBqE1cu0wkGg",
        "colab": {
          "base_uri": "https://localhost:8080/",
          "height": 286
        },
        "outputId": "01c99011-7161-47fb-b016-d8197e780e0d"
      },
      "execution_count": null,
      "outputs": [
        {
          "output_type": "execute_result",
          "data": {
            "text/plain": [
              "<matplotlib.axes._subplots.AxesSubplot at 0x7f06fa1cfc50>"
            ]
          },
          "metadata": {},
          "execution_count": 57
        },
        {
          "output_type": "display_data",
          "data": {
            "text/plain": [
              "<Figure size 432x288 with 2 Axes>"
            ],
            "image/png": "[encoded data removed]"
          },
          "metadata": {
            "needs_background": "light"
          }
        }
      ]
    },
    {
      "cell_type": "code",
      "source": [
        "df1 = df1.drop(['F47'] ,axis=1)\n",
        "sns.heatmap(df1.corr(), annot=True)"
      ],
      "metadata": {
        "colab": {
          "base_uri": "https://localhost:8080/",
          "height": 286
        },
        "id": "szeH37ybwuB4",
        "outputId": "00d0d92b-9aeb-41a2-cef6-5bbee70f6fa7"
      },
      "execution_count": null,
      "outputs": [
        {
          "output_type": "execute_result",
          "data": {
            "text/plain": [
              "<matplotlib.axes._subplots.AxesSubplot at 0x7f06fa11d090>"
            ]
          },
          "metadata": {},
          "execution_count": 72
        },
        {
          "output_type": "display_data",
          "data": {
            "text/plain": [
              "<Figure size 432x288 with 2 Axes>"
            ],
            "image/png": "[encoded data removed]"
          },
          "metadata": {
            "needs_background": "light"
          }
        }
      ]
    },
    {
      "cell_type": "code",
      "source": [
        "new_X = df1.drop(['Class'], axis=1)\n",
        "new_y = df1['Class']"
      ],
      "metadata": {
        "id": "tZXICLmcSayK"
      },
      "execution_count": null,
      "outputs": []
    },
    {
      "cell_type": "code",
      "source": [
        "print(new_X.shape)\n",
        "print(new_y.shape)"
      ],
      "metadata": {
        "colab": {
          "base_uri": "https://localhost:8080/"
        },
        "id": "SJ5K702mSh1a",
        "outputId": "998c47dd-ff98-4b6b-e2d1-ad6b4a51ff49"
      },
      "execution_count": null,
      "outputs": [
        {
          "output_type": "stream",
          "name": "stdout",
          "text": [
            "(276, 5)\n",
            "(276,)\n"
          ]
        }
      ]
    },
    {
      "cell_type": "code",
      "source": [
        "X_train, X_test, y_train, y_test = train_test_split(new_X, new_y, test_size=0.2, random_state=0)"
      ],
      "metadata": {
        "id": "j2P-E3gqaFju"
      },
      "execution_count": null,
      "outputs": []
    },
    {
      "cell_type": "code",
      "source": [
        "print(X_train.shape)\n",
        "print(X_test.shape)"
      ],
      "metadata": {
        "colab": {
          "base_uri": "https://localhost:8080/"
        },
        "id": "NdfWjwwqaHUG",
        "outputId": "da3061d9-97df-408e-ceac-a44010a68617"
      },
      "execution_count": null,
      "outputs": [
        {
          "output_type": "stream",
          "name": "stdout",
          "text": [
            "(220, 5)\n",
            "(56, 5)\n"
          ]
        }
      ]
    },
    {
      "cell_type": "markdown",
      "source": [
        "KNN Method"
      ],
      "metadata": {
        "id": "_pkV32sZaMBi"
      }
    },
    {
      "cell_type": "code",
      "source": [
        "for i in range(2,13):\n",
        "    labels=cluster.KMeans(n_clusters=i,init=\"k-means++\", random_state=200).fit(df_wo_outliers).labels_\n",
        "    print (\"Silhouette score for k(clusters) = \"+str(i)+\" is \"\n",
        "           +str(metrics.silhouette_score(df_wo_outliers, labels,metric=\"euclidean\", sample_size=1000, random_state=200)))"
      ],
      "metadata": {
        "colab": {
          "base_uri": "https://localhost:8080/"
        },
        "id": "nenuUe72aNb7",
        "outputId": "b95e2d5b-f796-470c-829a-de797a336203"
      },
      "execution_count": null,
      "outputs": [
        {
          "output_type": "stream",
          "name": "stdout",
          "text": [
            "Silhouette score for k(clusters) = 2 is 0.767722658651859\n",
            "Silhouette score for k(clusters) = 3 is 0.7636568905902792\n",
            "Silhouette score for k(clusters) = 4 is 0.811007948916478\n",
            "Silhouette score for k(clusters) = 5 is 0.8615449816471475\n",
            "Silhouette score for k(clusters) = 6 is 0.6920026383318914\n",
            "Silhouette score for k(clusters) = 7 is 0.36757231966861487\n",
            "Silhouette score for k(clusters) = 8 is 0.20981263681839685\n",
            "Silhouette score for k(clusters) = 9 is 0.2840811325059402\n",
            "Silhouette score for k(clusters) = 10 is 0.2787724456352727\n",
            "Silhouette score for k(clusters) = 11 is 0.12064474958631115\n",
            "Silhouette score for k(clusters) = 12 is 0.1338152684468216\n"
          ]
        }
      ]
    },
    {
      "cell_type": "code",
      "source": [
        "knn = KNeighborsClassifier(n_neighbors=5)\n",
        "knn.fit(X_train, y_train)\n",
        "y_pred = knn.predict(X_test)\n",
        "print(classification_report(y_test, y_pred))"
      ],
      "metadata": {
        "colab": {
          "base_uri": "https://localhost:8080/"
        },
        "id": "bC7gh26Ua0Pi",
        "outputId": "501d5091-dc48-40ee-e34f-40cf8e29d111"
      },
      "execution_count": null,
      "outputs": [
        {
          "output_type": "stream",
          "name": "stdout",
          "text": [
            "              precision    recall  f1-score   support\n",
            "\n",
            "           1       0.53      0.38      0.44        21\n",
            "           2       1.00      0.20      0.33         5\n",
            "           3       0.25      0.25      0.25         4\n",
            "           4       0.67      0.67      0.67        15\n",
            "           5       0.29      0.55      0.37        11\n",
            "\n",
            "    accuracy                           0.46        56\n",
            "   macro avg       0.55      0.41      0.41        56\n",
            "weighted avg       0.54      0.46      0.47        56\n",
            "\n"
          ]
        }
      ]
    },
    {
      "cell_type": "markdown",
      "source": [
        "SVM Linear Kernel"
      ],
      "metadata": {
        "id": "Aj0JfqxXa47U"
      }
    },
    {
      "cell_type": "code",
      "source": [
        "svc_pipe = Pipeline([('scaler', StandardScaler()), ('svc', SVC())])"
      ],
      "metadata": {
        "id": "ePge9tu3a6dH"
      },
      "execution_count": null,
      "outputs": []
    },
    {
      "cell_type": "code",
      "source": [
        "svc_lin_params = {'svc__C': [0.01, 0.1, 1, 10], 'svc__kernel': ['linear']}"
      ],
      "metadata": {
        "id": "UnuQvooFa8LG"
      },
      "execution_count": null,
      "outputs": []
    },
    {
      "cell_type": "code",
      "source": [
        "svc_lin = GridSearchCV(svc_pipe, svc_lin_params, n_jobs=-1)"
      ],
      "metadata": {
        "id": "lpIY0OjIa81y"
      },
      "execution_count": null,
      "outputs": []
    },
    {
      "cell_type": "code",
      "source": [
        "svc_lin.fit(X_train, y_train)"
      ],
      "metadata": {
        "colab": {
          "base_uri": "https://localhost:8080/"
        },
        "id": "5oxVo9n3a9e1",
        "outputId": "ffe8dcce-0b0a-4f1c-e632-220cf532c11e"
      },
      "execution_count": null,
      "outputs": [
        {
          "output_type": "execute_result",
          "data": {
            "text/plain": [
              "GridSearchCV(estimator=Pipeline(steps=[('scaler', StandardScaler()),\n",
              "                                       ('svc', SVC())]),\n",
              "             n_jobs=-1,\n",
              "             param_grid={'svc__C': [0.01, 0.1, 1, 10],\n",
              "                         'svc__kernel': ['linear']})"
            ]
          },
          "metadata": {},
          "execution_count": 106
        }
      ]
    },
    {
      "cell_type": "code",
      "source": [
        "svc_lin.best_params_"
      ],
      "metadata": {
        "colab": {
          "base_uri": "https://localhost:8080/"
        },
        "id": "Sb6vmDO2a-fl",
        "outputId": "5f79ab64-8c99-421c-d438-1702dc340076"
      },
      "execution_count": null,
      "outputs": [
        {
          "output_type": "execute_result",
          "data": {
            "text/plain": [
              "{'svc__C': 10, 'svc__kernel': 'linear'}"
            ]
          },
          "metadata": {},
          "execution_count": 107
        }
      ]
    },
    {
      "cell_type": "code",
      "source": [
        "lin_pred = svc_lin.predict(X_test)"
      ],
      "metadata": {
        "id": "razJgmX_a_L9"
      },
      "execution_count": null,
      "outputs": []
    },
    {
      "cell_type": "code",
      "source": [
        "print(classification_report(y_test, lin_pred))"
      ],
      "metadata": {
        "colab": {
          "base_uri": "https://localhost:8080/"
        },
        "id": "v1fJwHPNbBKR",
        "outputId": "dda5e8bc-e6cb-49c9-db3f-cc87a498daaf"
      },
      "execution_count": null,
      "outputs": [
        {
          "output_type": "stream",
          "name": "stdout",
          "text": [
            "              precision    recall  f1-score   support\n",
            "\n",
            "           1       0.67      0.95      0.78        21\n",
            "           2       1.00      0.20      0.33         5\n",
            "           3       0.00      0.00      0.00         4\n",
            "           4       0.59      0.67      0.62        15\n",
            "           5       0.43      0.27      0.33        11\n",
            "\n",
            "    accuracy                           0.61        56\n",
            "   macro avg       0.54      0.42      0.42        56\n",
            "weighted avg       0.58      0.61      0.56        56\n",
            "\n"
          ]
        }
      ]
    },
    {
      "cell_type": "markdown",
      "source": [
        "Comparison"
      ],
      "metadata": {
        "id": "q-w2XkYebHS_"
      }
    },
    {
      "cell_type": "code",
      "source": [
        "print(classification_report(y_test, y_pred))\n",
        "print(classification_report(y_test, lin_pred))"
      ],
      "metadata": {
        "colab": {
          "base_uri": "https://localhost:8080/"
        },
        "id": "i3Bud2CobIU3",
        "outputId": "f28c522a-38d4-421a-c23b-127db238e2a5"
      },
      "execution_count": null,
      "outputs": [
        {
          "output_type": "stream",
          "name": "stdout",
          "text": [
            "              precision    recall  f1-score   support\n",
            "\n",
            "           1       0.53      0.38      0.44        21\n",
            "           2       1.00      0.20      0.33         5\n",
            "           3       0.25      0.25      0.25         4\n",
            "           4       0.67      0.67      0.67        15\n",
            "           5       0.29      0.55      0.37        11\n",
            "\n",
            "    accuracy                           0.46        56\n",
            "   macro avg       0.55      0.41      0.41        56\n",
            "weighted avg       0.54      0.46      0.47        56\n",
            "\n",
            "              precision    recall  f1-score   support\n",
            "\n",
            "           1       0.67      0.95      0.78        21\n",
            "           2       1.00      0.20      0.33         5\n",
            "           3       0.00      0.00      0.00         4\n",
            "           4       0.59      0.67      0.62        15\n",
            "           5       0.43      0.27      0.33        11\n",
            "\n",
            "    accuracy                           0.61        56\n",
            "   macro avg       0.54      0.42      0.42        56\n",
            "weighted avg       0.58      0.61      0.56        56\n",
            "\n"
          ]
        }
      ]
    },
    {
      "cell_type": "markdown",
      "source": [
        "Evaluation"
      ],
      "metadata": {
        "id": "e6ebokf6bPJH"
      }
    },
    {
      "cell_type": "markdown",
      "source": [
        "(Di hitung di atas secara berulang)\n",
        "\n",
        "Jika hanya mengambil yang di atas 0.5, KNN 0.46 dan SVM 0.61\n",
        "\n",
        "Setelah F115 di drop, KNN 0.57 SVM 0.57\n",
        "\n",
        "Setelah F186 di drop juga, KNN 0.59 SVM 0.59\n",
        "\n",
        "Setelah F47 di drop juga, KNN 0.55 SVM 0.55\n"
      ],
      "metadata": {
        "id": "331-KmW2bodi"
      }
    },
    {
      "cell_type": "markdown",
      "source": [
        "Berdasarkan percobaan diatas, akurasi yang terbaik ada di SVM ketika tidak ada tambahan data yang di drop yaitu 0.61 tetapi setelah di drop F115 dan F186, didapatkan akurasi terbaik untuk KNN maupun SVM yaitu 0.59"
      ],
      "metadata": {
        "id": "5tHX_b0wbRoP"
      }
    }
  ]
}